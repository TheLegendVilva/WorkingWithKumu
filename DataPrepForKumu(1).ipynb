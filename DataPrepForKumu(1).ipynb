{
 "cells": [
  {
   "cell_type": "code",
   "execution_count": 77,
   "metadata": {
    "id": "1yuqN2O0qKoW"
   },
   "outputs": [],
   "source": [
    "import numpy as np\n",
    "import pandas as pd"
   ]
  },
  {
   "cell_type": "code",
   "execution_count": 78,
   "metadata": {
    "colab": {
     "base_uri": "https://localhost:8080/"
    },
    "id": "8o954O9oqVyC",
    "outputId": "1a5b7fb6-ba11-411d-dd44-bd6b2770a0f9"
   },
   "outputs": [
    {
     "name": "stderr",
     "output_type": "stream",
     "text": [
      "C:\\Users\\Varun\\AppData\\Local\\Temp\\ipykernel_2292\\4140932607.py:2: DtypeWarning: Columns (4) have mixed types. Specify dtype option on import or set low_memory=False.\n",
      "  title = pd.read_csv('title.basics.tsv.gz', sep='\\t', low_memory=True).set_index('tconst')[['titleType','primaryTitle','startYear']]\n"
     ]
    }
   ],
   "source": [
    "# load the titles\n",
    "title = pd.read_csv('title.basics.tsv.gz', sep='\\t', low_memory=True).set_index('tconst')[['titleType','primaryTitle','startYear']]"
   ]
  },
  {
   "cell_type": "code",
   "execution_count": 79,
   "metadata": {
    "colab": {
     "base_uri": "https://localhost:8080/",
     "height": 237
    },
    "id": "5u0r0Wxpqaqr",
    "outputId": "23e58dc7-47df-49f8-da26-0b966d20c256",
    "scrolled": true
   },
   "outputs": [
    {
     "data": {
      "text/html": [
       "<div>\n",
       "<style scoped>\n",
       "    .dataframe tbody tr th:only-of-type {\n",
       "        vertical-align: middle;\n",
       "    }\n",
       "\n",
       "    .dataframe tbody tr th {\n",
       "        vertical-align: top;\n",
       "    }\n",
       "\n",
       "    .dataframe thead th {\n",
       "        text-align: right;\n",
       "    }\n",
       "</style>\n",
       "<table border=\"1\" class=\"dataframe\">\n",
       "  <thead>\n",
       "    <tr style=\"text-align: right;\">\n",
       "      <th></th>\n",
       "      <th>titleType</th>\n",
       "      <th>primaryTitle</th>\n",
       "      <th>startYear</th>\n",
       "    </tr>\n",
       "    <tr>\n",
       "      <th>tconst</th>\n",
       "      <th></th>\n",
       "      <th></th>\n",
       "      <th></th>\n",
       "    </tr>\n",
       "  </thead>\n",
       "  <tbody>\n",
       "    <tr>\n",
       "      <th>tt0000001</th>\n",
       "      <td>short</td>\n",
       "      <td>Carmencita</td>\n",
       "      <td>1894</td>\n",
       "    </tr>\n",
       "    <tr>\n",
       "      <th>tt0000002</th>\n",
       "      <td>short</td>\n",
       "      <td>Le clown et ses chiens</td>\n",
       "      <td>1892</td>\n",
       "    </tr>\n",
       "    <tr>\n",
       "      <th>tt0000003</th>\n",
       "      <td>short</td>\n",
       "      <td>Pauvre Pierrot</td>\n",
       "      <td>1892</td>\n",
       "    </tr>\n",
       "    <tr>\n",
       "      <th>tt0000004</th>\n",
       "      <td>short</td>\n",
       "      <td>Un bon bock</td>\n",
       "      <td>1892</td>\n",
       "    </tr>\n",
       "    <tr>\n",
       "      <th>tt0000005</th>\n",
       "      <td>short</td>\n",
       "      <td>Blacksmith Scene</td>\n",
       "      <td>1893</td>\n",
       "    </tr>\n",
       "  </tbody>\n",
       "</table>\n",
       "</div>"
      ],
      "text/plain": [
       "          titleType            primaryTitle startYear\n",
       "tconst                                               \n",
       "tt0000001     short              Carmencita      1894\n",
       "tt0000002     short  Le clown et ses chiens      1892\n",
       "tt0000003     short          Pauvre Pierrot      1892\n",
       "tt0000004     short             Un bon bock      1892\n",
       "tt0000005     short        Blacksmith Scene      1893"
      ]
     },
     "execution_count": 79,
     "metadata": {},
     "output_type": "execute_result"
    }
   ],
   "source": [
    "title.head()"
   ]
  },
  {
   "cell_type": "code",
   "execution_count": 4,
   "metadata": {
    "colab": {
     "base_uri": "https://localhost:8080/"
    },
    "id": "Q_BIP4CnuUf8",
    "outputId": "e43977ba-facb-4394-b5d8-20b42673c7b5"
   },
   "outputs": [
    {
     "data": {
      "text/plain": [
       "titleType       object\n",
       "primaryTitle    object\n",
       "startYear       object\n",
       "dtype: object"
      ]
     },
     "execution_count": 4,
     "metadata": {},
     "output_type": "execute_result"
    }
   ],
   "source": [
    "title.dtypes"
   ]
  },
  {
   "cell_type": "code",
   "execution_count": 80,
   "metadata": {
    "id": "f8Ct8SiHvAE6"
   },
   "outputs": [],
   "source": [
    "title = title[title['startYear'] > '2000'] # filter by year"
   ]
  },
  {
   "cell_type": "code",
   "execution_count": 81,
   "metadata": {
    "colab": {
     "base_uri": "https://localhost:8080/",
     "height": 237
    },
    "id": "6JD9tKQrvvFE",
    "outputId": "87a83fe5-4a52-481b-e5c9-067272515df3"
   },
   "outputs": [
    {
     "data": {
      "text/html": [
       "<div>\n",
       "<style scoped>\n",
       "    .dataframe tbody tr th:only-of-type {\n",
       "        vertical-align: middle;\n",
       "    }\n",
       "\n",
       "    .dataframe tbody tr th {\n",
       "        vertical-align: top;\n",
       "    }\n",
       "\n",
       "    .dataframe thead th {\n",
       "        text-align: right;\n",
       "    }\n",
       "</style>\n",
       "<table border=\"1\" class=\"dataframe\">\n",
       "  <thead>\n",
       "    <tr style=\"text-align: right;\">\n",
       "      <th></th>\n",
       "      <th>titleType</th>\n",
       "      <th>primaryTitle</th>\n",
       "      <th>startYear</th>\n",
       "    </tr>\n",
       "    <tr>\n",
       "      <th>tconst</th>\n",
       "      <th></th>\n",
       "      <th></th>\n",
       "      <th></th>\n",
       "    </tr>\n",
       "  </thead>\n",
       "  <tbody>\n",
       "    <tr>\n",
       "      <th>tt0011801</th>\n",
       "      <td>movie</td>\n",
       "      <td>Tötet nicht mehr</td>\n",
       "      <td>2019</td>\n",
       "    </tr>\n",
       "    <tr>\n",
       "      <th>tt0013274</th>\n",
       "      <td>movie</td>\n",
       "      <td>Istoriya grazhdanskoy voyny</td>\n",
       "      <td>2021</td>\n",
       "    </tr>\n",
       "    <tr>\n",
       "      <th>tt0021123</th>\n",
       "      <td>movie</td>\n",
       "      <td>The March of Time</td>\n",
       "      <td>\\N</td>\n",
       "    </tr>\n",
       "    <tr>\n",
       "      <th>tt0034413</th>\n",
       "      <td>short</td>\n",
       "      <td>Youth Gets a Break</td>\n",
       "      <td>2001</td>\n",
       "    </tr>\n",
       "    <tr>\n",
       "      <th>tt0035235</th>\n",
       "      <td>short</td>\n",
       "      <td>Radio Dynamics</td>\n",
       "      <td>2016</td>\n",
       "    </tr>\n",
       "  </tbody>\n",
       "</table>\n",
       "</div>"
      ],
      "text/plain": [
       "          titleType                 primaryTitle startYear\n",
       "tconst                                                    \n",
       "tt0011801     movie             Tötet nicht mehr      2019\n",
       "tt0013274     movie  Istoriya grazhdanskoy voyny      2021\n",
       "tt0021123     movie            The March of Time        \\N\n",
       "tt0034413     short           Youth Gets a Break      2001\n",
       "tt0035235     short               Radio Dynamics      2016"
      ]
     },
     "execution_count": 81,
     "metadata": {},
     "output_type": "execute_result"
    }
   ],
   "source": [
    "title.head()"
   ]
  },
  {
   "cell_type": "code",
   "execution_count": 82,
   "metadata": {},
   "outputs": [],
   "source": [
    "# title1 = pd.read_csv('title.akas.tsv.gz', sep='\\t', usecols=['titleId', 'ordering','region', 'language'], dtype={'tconst':'str', 'ordering':'int', 'region': 'str', 'language': 'str'}, na_values='\\\\N').set_index('titleId')\n",
    "# title1 = title1[title1['region']=='IN']\n",
    "# title1 = title1[title1['language']=='hi' ]"
   ]
  },
  {
   "cell_type": "code",
   "execution_count": 88,
   "metadata": {
    "colab": {
     "base_uri": "https://localhost:8080/",
     "height": 206
    },
    "id": "e652R6wGqxiC",
    "outputId": "6bacaf07-0385-42f1-829a-989c32369f13"
   },
   "outputs": [
    {
     "data": {
      "text/html": [
       "<div>\n",
       "<style scoped>\n",
       "    .dataframe tbody tr th:only-of-type {\n",
       "        vertical-align: middle;\n",
       "    }\n",
       "\n",
       "    .dataframe tbody tr th {\n",
       "        vertical-align: top;\n",
       "    }\n",
       "\n",
       "    .dataframe thead th {\n",
       "        text-align: right;\n",
       "    }\n",
       "</style>\n",
       "<table border=\"1\" class=\"dataframe\">\n",
       "  <thead>\n",
       "    <tr style=\"text-align: right;\">\n",
       "      <th></th>\n",
       "      <th>tconst</th>\n",
       "      <th>nconst</th>\n",
       "      <th>category</th>\n",
       "    </tr>\n",
       "  </thead>\n",
       "  <tbody>\n",
       "    <tr>\n",
       "      <th>11</th>\n",
       "      <td>tt0000005</td>\n",
       "      <td>nm0443482</td>\n",
       "      <td>actor</td>\n",
       "    </tr>\n",
       "    <tr>\n",
       "      <th>12</th>\n",
       "      <td>tt0000005</td>\n",
       "      <td>nm0653042</td>\n",
       "      <td>actor</td>\n",
       "    </tr>\n",
       "    <tr>\n",
       "      <th>16</th>\n",
       "      <td>tt0000007</td>\n",
       "      <td>nm0179163</td>\n",
       "      <td>actor</td>\n",
       "    </tr>\n",
       "    <tr>\n",
       "      <th>17</th>\n",
       "      <td>tt0000007</td>\n",
       "      <td>nm0183947</td>\n",
       "      <td>actor</td>\n",
       "    </tr>\n",
       "    <tr>\n",
       "      <th>21</th>\n",
       "      <td>tt0000008</td>\n",
       "      <td>nm0653028</td>\n",
       "      <td>actor</td>\n",
       "    </tr>\n",
       "  </tbody>\n",
       "</table>\n",
       "</div>"
      ],
      "text/plain": [
       "       tconst     nconst category\n",
       "11  tt0000005  nm0443482    actor\n",
       "12  tt0000005  nm0653042    actor\n",
       "16  tt0000007  nm0179163    actor\n",
       "17  tt0000007  nm0183947    actor\n",
       "21  tt0000008  nm0653028    actor"
      ]
     },
     "execution_count": 88,
     "metadata": {},
     "output_type": "execute_result"
    }
   ],
   "source": [
    "# load the cast of each film\n",
    "cast  = pd.read_csv('title.principals.tsv.gz', sep = '\\t')[['tconst', 'nconst', 'category']]\n",
    "# only consider actors, not directors, composors etc.\n",
    "cast = cast[cast.category.isin({'actor','actress'})]\n",
    "cast.head()"
   ]
  },
  {
   "cell_type": "code",
   "execution_count": 89,
   "metadata": {
    "colab": {
     "base_uri": "https://localhost:8080/",
     "height": 206
    },
    "id": "yLR_bxqwqzen",
    "outputId": "7519e8ad-23d7-479e-f981-1554e30828f0"
   },
   "outputs": [
    {
     "data": {
      "text/html": [
       "<div>\n",
       "<style scoped>\n",
       "    .dataframe tbody tr th:only-of-type {\n",
       "        vertical-align: middle;\n",
       "    }\n",
       "\n",
       "    .dataframe tbody tr th {\n",
       "        vertical-align: top;\n",
       "    }\n",
       "\n",
       "    .dataframe thead th {\n",
       "        text-align: right;\n",
       "    }\n",
       "</style>\n",
       "<table border=\"1\" class=\"dataframe\">\n",
       "  <thead>\n",
       "    <tr style=\"text-align: right;\">\n",
       "      <th></th>\n",
       "      <th>tconst</th>\n",
       "      <th>nconst</th>\n",
       "      <th>category</th>\n",
       "    </tr>\n",
       "  </thead>\n",
       "  <tbody>\n",
       "    <tr>\n",
       "      <th>80702</th>\n",
       "      <td>tt0011801</td>\n",
       "      <td>nm0459029</td>\n",
       "      <td>actor</td>\n",
       "    </tr>\n",
       "    <tr>\n",
       "      <th>80703</th>\n",
       "      <td>tt0011801</td>\n",
       "      <td>nm0681726</td>\n",
       "      <td>actor</td>\n",
       "    </tr>\n",
       "    <tr>\n",
       "      <th>80704</th>\n",
       "      <td>tt0011801</td>\n",
       "      <td>nm0692612</td>\n",
       "      <td>actress</td>\n",
       "    </tr>\n",
       "    <tr>\n",
       "      <th>80705</th>\n",
       "      <td>tt0011801</td>\n",
       "      <td>nm0726256</td>\n",
       "      <td>actor</td>\n",
       "    </tr>\n",
       "    <tr>\n",
       "      <th>80706</th>\n",
       "      <td>tt0011801</td>\n",
       "      <td>nm0776458</td>\n",
       "      <td>actor</td>\n",
       "    </tr>\n",
       "  </tbody>\n",
       "</table>\n",
       "</div>"
      ],
      "text/plain": [
       "          tconst     nconst category\n",
       "80702  tt0011801  nm0459029    actor\n",
       "80703  tt0011801  nm0681726    actor\n",
       "80704  tt0011801  nm0692612  actress\n",
       "80705  tt0011801  nm0726256    actor\n",
       "80706  tt0011801  nm0776458    actor"
      ]
     },
     "execution_count": 89,
     "metadata": {},
     "output_type": "execute_result"
    }
   ],
   "source": [
    "# only consider movies, not series, etc\n",
    "movies = title[title['titleType'] == 'movie']\n",
    "cast = cast[cast['tconst'].isin(movies.index)]\n",
    "cast.head()"
   ]
  },
  {
   "cell_type": "code",
   "execution_count": 105,
   "metadata": {
    "colab": {
     "base_uri": "https://localhost:8080/"
    },
    "id": "3Pvao-lGrSXj",
    "outputId": "10dfbea2-cfdd-41c6-cea0-5adbf260f550"
   },
   "outputs": [
    {
     "data": {
      "text/plain": [
       "DE    4225094\n",
       "FR    4221318\n",
       "JP    4220708\n",
       "IN    4160337\n",
       "ES    4142643\n",
       "IT    4122839\n",
       "PT    4054663\n",
       "\\N    1884488\n",
       "US    1423787\n",
       "GB     444321\n",
       "Name: region, dtype: int64"
      ]
     },
     "execution_count": 105,
     "metadata": {},
     "output_type": "execute_result"
    }
   ],
   "source": [
    "region = pd.read_csv('title.akas.tsv.gz',sep='\\t',usecols=['titleId','region'],low_memory = True,dtype={'region':'str','titleId':'str'}).set_index('titleId')['region']\n",
    "region.value_counts().head(10)\n",
    "\n",
    "# region = pd.read_csv('title.akas.tsv.gz', sep='\\t', usecols=['titleId', 'ordering','region', 'language'], dtype={'tconst':'str', 'ordering':'int', 'region': 'str', 'language': 'str'}, na_values='\\\\N').set_index('titleId')\n",
    "# region = region[region['region']=='IN']\n",
    "# region = region[region['language']=='hi' ]"
   ]
  },
  {
   "cell_type": "code",
   "execution_count": 67,
   "metadata": {},
   "outputs": [
    {
     "data": {
      "text/html": [
       "<div>\n",
       "<style scoped>\n",
       "    .dataframe tbody tr th:only-of-type {\n",
       "        vertical-align: middle;\n",
       "    }\n",
       "\n",
       "    .dataframe tbody tr th {\n",
       "        vertical-align: top;\n",
       "    }\n",
       "\n",
       "    .dataframe thead th {\n",
       "        text-align: right;\n",
       "    }\n",
       "</style>\n",
       "<table border=\"1\" class=\"dataframe\">\n",
       "  <thead>\n",
       "    <tr style=\"text-align: right;\">\n",
       "      <th></th>\n",
       "      <th>ordering</th>\n",
       "      <th>region</th>\n",
       "      <th>language</th>\n",
       "    </tr>\n",
       "    <tr>\n",
       "      <th>titleId</th>\n",
       "      <th></th>\n",
       "      <th></th>\n",
       "      <th></th>\n",
       "    </tr>\n",
       "  </thead>\n",
       "  <tbody>\n",
       "    <tr>\n",
       "      <th>tt0000302</th>\n",
       "      <td>3</td>\n",
       "      <td>IN</td>\n",
       "      <td>hi</td>\n",
       "    </tr>\n",
       "    <tr>\n",
       "      <th>tt0011965</th>\n",
       "      <td>1</td>\n",
       "      <td>IN</td>\n",
       "      <td>hi</td>\n",
       "    </tr>\n",
       "    <tr>\n",
       "      <th>tt0012349</th>\n",
       "      <td>17</td>\n",
       "      <td>IN</td>\n",
       "      <td>hi</td>\n",
       "    </tr>\n",
       "    <tr>\n",
       "      <th>tt0013568</th>\n",
       "      <td>2</td>\n",
       "      <td>IN</td>\n",
       "      <td>hi</td>\n",
       "    </tr>\n",
       "    <tr>\n",
       "      <th>tt0014142</th>\n",
       "      <td>30</td>\n",
       "      <td>IN</td>\n",
       "      <td>hi</td>\n",
       "    </tr>\n",
       "  </tbody>\n",
       "</table>\n",
       "</div>"
      ],
      "text/plain": [
       "           ordering region language\n",
       "titleId                            \n",
       "tt0000302         3     IN       hi\n",
       "tt0011965         1     IN       hi\n",
       "tt0012349        17     IN       hi\n",
       "tt0013568         2     IN       hi\n",
       "tt0014142        30     IN       hi"
      ]
     },
     "execution_count": 67,
     "metadata": {},
     "output_type": "execute_result"
    }
   ],
   "source": [
    "region.head()"
   ]
  },
  {
   "cell_type": "code",
   "execution_count": 90,
   "metadata": {},
   "outputs": [
    {
     "name": "stderr",
     "output_type": "stream",
     "text": [
      "C:\\Users\\Varun\\AppData\\Local\\Temp\\ipykernel_2292\\3452743770.py:1: DtypeWarning: Columns (7) have mixed types. Specify dtype option on import or set low_memory=False.\n",
      "  region_new = pd.read_csv('title.akas.tsv.gz',sep='\\t',low_memory = True,dtype={'region':'str','titleId':'str'}).set_index('titleId')\n"
     ]
    }
   ],
   "source": [
    "region_new = pd.read_csv('title.akas.tsv.gz',sep='\\t',low_memory = True,dtype={'region':'str','titleId':'str'}).set_index('titleId')"
   ]
  },
  {
   "cell_type": "code",
   "execution_count": 91,
   "metadata": {
    "colab": {
     "base_uri": "https://localhost:8080/"
    },
    "id": "0oyk2-zAvzx3",
    "outputId": "d0dad2c6-437f-4da1-a6ea-478b671a46b2"
   },
   "outputs": [],
   "source": [
    "region_new = region_new.loc[region_new['language']=='hi']"
   ]
  },
  {
   "cell_type": "code",
   "execution_count": 99,
   "metadata": {},
   "outputs": [
    {
     "data": {
      "text/html": [
       "<div>\n",
       "<style scoped>\n",
       "    .dataframe tbody tr th:only-of-type {\n",
       "        vertical-align: middle;\n",
       "    }\n",
       "\n",
       "    .dataframe tbody tr th {\n",
       "        vertical-align: top;\n",
       "    }\n",
       "\n",
       "    .dataframe thead th {\n",
       "        text-align: right;\n",
       "    }\n",
       "</style>\n",
       "<table border=\"1\" class=\"dataframe\">\n",
       "  <thead>\n",
       "    <tr style=\"text-align: right;\">\n",
       "      <th></th>\n",
       "      <th>ordering</th>\n",
       "      <th>title</th>\n",
       "      <th>region</th>\n",
       "      <th>language</th>\n",
       "      <th>types</th>\n",
       "      <th>attributes</th>\n",
       "      <th>isOriginalTitle</th>\n",
       "    </tr>\n",
       "    <tr>\n",
       "      <th>titleId</th>\n",
       "      <th></th>\n",
       "      <th></th>\n",
       "      <th></th>\n",
       "      <th></th>\n",
       "      <th></th>\n",
       "      <th></th>\n",
       "      <th></th>\n",
       "    </tr>\n",
       "  </thead>\n",
       "  <tbody>\n",
       "    <tr>\n",
       "      <th>tt0000302</th>\n",
       "      <td>3</td>\n",
       "      <td>गोभी की परी, या बच्चों का जन्म</td>\n",
       "      <td>IN</td>\n",
       "      <td>hi</td>\n",
       "      <td>imdbDisplay</td>\n",
       "      <td>\\N</td>\n",
       "      <td>0</td>\n",
       "    </tr>\n",
       "    <tr>\n",
       "      <th>tt0011965</th>\n",
       "      <td>1</td>\n",
       "      <td>Dharma Vijay</td>\n",
       "      <td>IN</td>\n",
       "      <td>hi</td>\n",
       "      <td>alternative</td>\n",
       "      <td>\\N</td>\n",
       "      <td>0</td>\n",
       "    </tr>\n",
       "    <tr>\n",
       "      <th>tt0012349</th>\n",
       "      <td>17</td>\n",
       "      <td>The Kid</td>\n",
       "      <td>IN</td>\n",
       "      <td>hi</td>\n",
       "      <td>imdbDisplay</td>\n",
       "      <td>\\N</td>\n",
       "      <td>0</td>\n",
       "    </tr>\n",
       "    <tr>\n",
       "      <th>tt0013568</th>\n",
       "      <td>2</td>\n",
       "      <td>Sadhu Aur Shaitaan</td>\n",
       "      <td>IN</td>\n",
       "      <td>hi</td>\n",
       "      <td>\\N</td>\n",
       "      <td>alternative spelling</td>\n",
       "      <td>0</td>\n",
       "    </tr>\n",
       "    <tr>\n",
       "      <th>tt0014142</th>\n",
       "      <td>30</td>\n",
       "      <td>The Hunchback of Notre Dame</td>\n",
       "      <td>IN</td>\n",
       "      <td>hi</td>\n",
       "      <td>imdbDisplay</td>\n",
       "      <td>\\N</td>\n",
       "      <td>0</td>\n",
       "    </tr>\n",
       "  </tbody>\n",
       "</table>\n",
       "</div>"
      ],
      "text/plain": [
       "           ordering                           title region language  \\\n",
       "titleId                                                               \n",
       "tt0000302         3  गोभी की परी, या बच्चों का जन्म     IN       hi   \n",
       "tt0011965         1                    Dharma Vijay     IN       hi   \n",
       "tt0012349        17                         The Kid     IN       hi   \n",
       "tt0013568         2              Sadhu Aur Shaitaan     IN       hi   \n",
       "tt0014142        30     The Hunchback of Notre Dame     IN       hi   \n",
       "\n",
       "                 types            attributes isOriginalTitle  \n",
       "titleId                                                       \n",
       "tt0000302  imdbDisplay                    \\N               0  \n",
       "tt0011965  alternative                    \\N               0  \n",
       "tt0012349  imdbDisplay                    \\N               0  \n",
       "tt0013568           \\N  alternative spelling               0  \n",
       "tt0014142  imdbDisplay                    \\N               0  "
      ]
     },
     "execution_count": 99,
     "metadata": {},
     "output_type": "execute_result"
    }
   ],
   "source": [
    "region_new.head()"
   ]
  },
  {
   "cell_type": "code",
   "execution_count": 92,
   "metadata": {
    "colab": {
     "base_uri": "https://localhost:8080/",
     "height": 237
    },
    "id": "4Va-DfNdrXsT",
    "outputId": "623abf67-dffd-482b-d854-561d2f47296b"
   },
   "outputs": [
    {
     "data": {
      "text/html": [
       "<div>\n",
       "<style scoped>\n",
       "    .dataframe tbody tr th:only-of-type {\n",
       "        vertical-align: middle;\n",
       "    }\n",
       "\n",
       "    .dataframe tbody tr th {\n",
       "        vertical-align: top;\n",
       "    }\n",
       "\n",
       "    .dataframe thead th {\n",
       "        text-align: right;\n",
       "    }\n",
       "</style>\n",
       "<table border=\"1\" class=\"dataframe\">\n",
       "  <thead>\n",
       "    <tr style=\"text-align: right;\">\n",
       "      <th></th>\n",
       "      <th>primaryName</th>\n",
       "      <th>birthYear</th>\n",
       "    </tr>\n",
       "    <tr>\n",
       "      <th>nconst</th>\n",
       "      <th></th>\n",
       "      <th></th>\n",
       "    </tr>\n",
       "  </thead>\n",
       "  <tbody>\n",
       "    <tr>\n",
       "      <th>nm0000001</th>\n",
       "      <td>Fred Astaire</td>\n",
       "      <td>1899.0</td>\n",
       "    </tr>\n",
       "    <tr>\n",
       "      <th>nm0000002</th>\n",
       "      <td>Lauren Bacall</td>\n",
       "      <td>1924.0</td>\n",
       "    </tr>\n",
       "    <tr>\n",
       "      <th>nm0000003</th>\n",
       "      <td>Brigitte Bardot</td>\n",
       "      <td>1934.0</td>\n",
       "    </tr>\n",
       "    <tr>\n",
       "      <th>nm0000004</th>\n",
       "      <td>John Belushi</td>\n",
       "      <td>1949.0</td>\n",
       "    </tr>\n",
       "    <tr>\n",
       "      <th>nm0000005</th>\n",
       "      <td>Ingmar Bergman</td>\n",
       "      <td>1918.0</td>\n",
       "    </tr>\n",
       "  </tbody>\n",
       "</table>\n",
       "</div>"
      ],
      "text/plain": [
       "               primaryName  birthYear\n",
       "nconst                               \n",
       "nm0000001     Fred Astaire     1899.0\n",
       "nm0000002    Lauren Bacall     1924.0\n",
       "nm0000003  Brigitte Bardot     1934.0\n",
       "nm0000004     John Belushi     1949.0\n",
       "nm0000005   Ingmar Bergman     1918.0"
      ]
     },
     "execution_count": 92,
     "metadata": {},
     "output_type": "execute_result"
    }
   ],
   "source": [
    "name = pd.read_csv('name.basics.tsv.gz', sep = '\\t', low_memory=True, na_values = '\\\\N', dtype={'birthYear': float}).set_index('nconst')[['primaryName', 'birthYear']]\n",
    "name.head()"
   ]
  },
  {
   "cell_type": "code",
   "execution_count": 96,
   "metadata": {
    "id": "hPshnwB2sM7A"
   },
   "outputs": [],
   "source": [
    "from scipy.sparse import csr_matrix"
   ]
  },
  {
   "cell_type": "code",
   "execution_count": 106,
   "metadata": {
    "id": "lQNflrmntHng"
   },
   "outputs": [],
   "source": [
    "new_df=None\n",
    "def get_pairs(lang=None, min_acted=25, min_pairings=1):\n",
    "    '''\n",
    "    Returns an adjacency matrix and actor mapping of actor pairs where:\n",
    "    - Each actor has acted in at least min_acted films\n",
    "    - The two actors have acted together in at least min_pairings films\n",
    "    - And (optionally), belong to a region `lang` (IN, UN, etc)\n",
    "    '''\n",
    "    graph = cast\n",
    "    if lang is not None:\n",
    "        graph = graph[graph['tconst'].isin(region[region==lang].index)]\n",
    "#         graph = graph[graph['tconst']]\n",
    "                # graph = graph[graph['tconst'].isin(region[region == lang].index)]\n",
    "            \n",
    "    name_freq = graph['nconst'].value_counts()\n",
    "    top_names = name_freq[name_freq >= min_acted]\n",
    "    top_actors = graph[graph['nconst'].isin(top_names.index)]\n",
    "\n",
    "    p = top_actors.copy()\n",
    "    p['title'] = p['tconst'].astype('category')\n",
    "    p['name'] = p['nconst'].astype('category')\n",
    "\n",
    "    row = p['title'].cat.codes.values\n",
    "    col = p['name'].cat.codes.values\n",
    "    data = np.ones(len(p), dtype='int')\n",
    "\n",
    "    matrix = csr_matrix((data, (row, col)))\n",
    "    square = matrix.T * matrix\n",
    "    square.setdiag(0)\n",
    "    square = square.tocoo()\n",
    "\n",
    "    pairs = pd.DataFrame({\n",
    "        'row': square.row,\n",
    "        'col': square.col,\n",
    "        'n': square.data\n",
    "    })\n",
    "    new_df=graph\n",
    "    \n",
    "    pairs = pairs[pairs.n >= min_pairings].reset_index(drop=True)\n",
    "    \n",
    "    return graph, pairs, name.reindex(p['name'].cat.categories)\n",
    "\n",
    "def lookup(pairs, cat):\n",
    "    pairs = pd.concat([\n",
    "        pairs,\n",
    "        cat.iloc[pairs.row].reset_index(drop=True),\n",
    "        cat.iloc[pairs.col].reset_index(drop=True),\n",
    "    ], axis=1)\n",
    "    pairs = pairs.drop(columns=['row', 'col'])\n",
    "    pairs.columns = ['count', 'name1', 'year1', 'name2', 'year2']\n",
    "    return pairs.sort_values('count', ascending=False)"
   ]
  },
  {
   "cell_type": "code",
   "execution_count": 107,
   "metadata": {
    "id": "AokpHqZXoXaS"
   },
   "outputs": [],
   "source": [
    "graph, pairs, cat = get_pairs(lang='IN', min_acted=1, min_pairings=1) # setting lang = 'IN' will apply a filter allowing only INdian movies"
   ]
  },
  {
   "cell_type": "code",
   "execution_count": 108,
   "metadata": {
    "id": "Lig_l4fVolpK"
   },
   "outputs": [],
   "source": [
    "ForKumu = lookup(pairs, cat)"
   ]
  },
  {
   "cell_type": "code",
   "execution_count": 109,
   "metadata": {
    "id": "YGhT6rIMo33M"
   },
   "outputs": [],
   "source": [
    "ForKumu = ForKumu[['name1', 'name2', 'count']]\n",
    "ForKumu = ForKumu.rename(columns={'name1':'From',\n",
    "                                  'name2':'To',\n",
    "                                  'count':'Strength'})\n"
   ]
  },
  {
   "cell_type": "code",
   "execution_count": 110,
   "metadata": {
    "colab": {
     "base_uri": "https://localhost:8080/",
     "height": 206
    },
    "id": "gUrDLdTeo6e5",
    "outputId": "da8383f1-7300-4ec1-dea1-aa9abc7845ea"
   },
   "outputs": [
    {
     "data": {
      "text/html": [
       "<div>\n",
       "<style scoped>\n",
       "    .dataframe tbody tr th:only-of-type {\n",
       "        vertical-align: middle;\n",
       "    }\n",
       "\n",
       "    .dataframe tbody tr th {\n",
       "        vertical-align: top;\n",
       "    }\n",
       "\n",
       "    .dataframe thead th {\n",
       "        text-align: right;\n",
       "    }\n",
       "</style>\n",
       "<table border=\"1\" class=\"dataframe\">\n",
       "  <thead>\n",
       "    <tr style=\"text-align: right;\">\n",
       "      <th></th>\n",
       "      <th>From</th>\n",
       "      <th>To</th>\n",
       "      <th>Strength</th>\n",
       "    </tr>\n",
       "  </thead>\n",
       "  <tbody>\n",
       "    <tr>\n",
       "      <th>40292</th>\n",
       "      <td>Mohammad Ali</td>\n",
       "      <td>Brahmanandam</td>\n",
       "      <td>47</td>\n",
       "    </tr>\n",
       "    <tr>\n",
       "      <th>28041</th>\n",
       "      <td>Brahmanandam</td>\n",
       "      <td>Mohammad Ali</td>\n",
       "      <td>47</td>\n",
       "    </tr>\n",
       "    <tr>\n",
       "      <th>96613</th>\n",
       "      <td>Anil Nagrath</td>\n",
       "      <td>Amit Pachori</td>\n",
       "      <td>34</td>\n",
       "    </tr>\n",
       "    <tr>\n",
       "      <th>140069</th>\n",
       "      <td>Amit Pachori</td>\n",
       "      <td>Anil Nagrath</td>\n",
       "      <td>34</td>\n",
       "    </tr>\n",
       "    <tr>\n",
       "      <th>96622</th>\n",
       "      <td>Sapna Sappu</td>\n",
       "      <td>Amit Pachori</td>\n",
       "      <td>33</td>\n",
       "    </tr>\n",
       "  </tbody>\n",
       "</table>\n",
       "</div>"
      ],
      "text/plain": [
       "                From            To  Strength\n",
       "40292   Mohammad Ali  Brahmanandam        47\n",
       "28041   Brahmanandam  Mohammad Ali        47\n",
       "96613   Anil Nagrath  Amit Pachori        34\n",
       "140069  Amit Pachori  Anil Nagrath        34\n",
       "96622    Sapna Sappu  Amit Pachori        33"
      ]
     },
     "execution_count": 110,
     "metadata": {},
     "output_type": "execute_result"
    }
   ],
   "source": [
    "ForKumu.head()"
   ]
  },
  {
   "cell_type": "code",
   "execution_count": 111,
   "metadata": {
    "colab": {
     "base_uri": "https://localhost:8080/"
    },
    "id": "Kv9E_C0eo8J5",
    "outputId": "35dc5a77-4c21-403a-b233-9a2c9c58c4c4"
   },
   "outputs": [
    {
     "data": {
      "text/plain": [
       "(530994, 3)"
      ]
     },
     "execution_count": 111,
     "metadata": {},
     "output_type": "execute_result"
    }
   ],
   "source": [
    "ForKumu.shape # if the kumu website crashes when you try to upload this massive dataset, try uploading a sample of this, like the first 10,000 rows."
   ]
  },
  {
   "cell_type": "code",
   "execution_count": 113,
   "metadata": {
    "id": "qPCAPgV_uQjL"
   },
   "outputs": [],
   "source": [
    "writer = pd.ExcelWriter('converted-to-excel.xlsx')"
   ]
  },
  {
   "cell_type": "code",
   "execution_count": 115,
   "metadata": {},
   "outputs": [],
   "source": [
    "ForKumu.to_excel(writer)"
   ]
  },
  {
   "cell_type": "code",
   "execution_count": 116,
   "metadata": {},
   "outputs": [],
   "source": [
    "writer.save()"
   ]
  },
  {
   "cell_type": "code",
   "execution_count": null,
   "metadata": {},
   "outputs": [],
   "source": [
    "merge(graph,title)"
   ]
  }
 ],
 "metadata": {
  "colab": {
   "provenance": []
  },
  "kernelspec": {
   "display_name": "Python 3 (ipykernel)",
   "language": "python",
   "name": "python3"
  },
  "language_info": {
   "codemirror_mode": {
    "name": "ipython",
    "version": 3
   },
   "file_extension": ".py",
   "mimetype": "text/x-python",
   "name": "python",
   "nbconvert_exporter": "python",
   "pygments_lexer": "ipython3",
   "version": "3.10.6"
  }
 },
 "nbformat": 4,
 "nbformat_minor": 1
}
